{
 "cells": [
  {
   "cell_type": "markdown",
   "id": "55dc2359",
   "metadata": {},
   "source": [
    "## The problem\n",
    "\n",
    "I have images of document pages and a ground-truth transcription of the pages. But what I really need is the ground truth for individual lines.\n",
    "\n",
    "How do I match lines from the page image to the corresponding line in the GT text?"
   ]
  },
  {
   "cell_type": "markdown",
   "id": "854baa66",
   "metadata": {},
   "source": [
    "## A solution\n",
    "\n",
    "I run page segmentation and OCR on the \n",
    "document image and match the segmented lines by exploiting\n",
    "1. reading order (recognized by the page segmenter for the image and given by the GT text)\n",
    "2. similiarity of recognized text in the image and the GT text line"
   ]
  },
  {
   "cell_type": "markdown",
   "id": "073e29a0",
   "metadata": {},
   "source": [
    "In this experiment I just use an extracted OCR text to see if this approach works:"
   ]
  },
  {
   "cell_type": "code",
   "execution_count": 1,
   "id": "369014f6",
   "metadata": {},
   "outputs": [
    {
     "name": "stdout",
     "output_type": "stream",
     "text": [
      "Achtung! Telefonische Bestellungen werden angenommen, jedoch\r\n",
      "nur nech schriftlicher Bestätigung ausgeführt.\r\n",
      "Bestellungen erbeten en\r\n",
      "Zentralantiqueriat der Deutschen Demokre\r\n",
      "DDR –-_701_Leipzig, Talstr. 29, Postfach _1080\r\n",
      "oder an folgende Vertragapartner:\r\n",
      "Helios-Buchhandlung u. Antiausriat GmbH\r\n",
      "1 Berlin 52, Eichborndamm 141-167\r\n",
      "Heidelberger Humani tas\r\n",
      "Literetur-Vertriebs-GmbH\r\n"
     ]
    }
   ],
   "source": [
    "!head ocr.txt"
   ]
  },
  {
   "cell_type": "markdown",
   "id": "5fb69510",
   "metadata": {},
   "source": [
    "However this would also work for, say, a sequence of text lines from a PAGE-XML document (with corresponding line image!)."
   ]
  },
  {
   "cell_type": "markdown",
   "id": "f46f974a",
   "metadata": {},
   "source": [
    "The GT text:"
   ]
  },
  {
   "cell_type": "code",
   "execution_count": 2,
   "id": "3de774a1",
   "metadata": {},
   "outputs": [
    {
     "name": "stdout",
     "output_type": "stream",
     "text": [
      "Achtung! Telefonische Bestellungen werden angenommen, jedoch\r\n",
      "nur nach schriftlicher Bestätigung ausgeführt.\r\n",
      "\r\n",
      "Bestellungen erbeten an\r\n",
      "Zentralantiquariat der Deutschen Demokratischen Republik,\r\n",
      "DDR - 701 Leipzig, Talstr. 29, Postfach 1080\r\n",
      "oder an folgende Vertragspartner:\r\n",
      "Helios-Buchhandlung u. Antiquariat GmbH\r\n",
      "1 Berlin 52, Eichborndamm 141-167\r\n",
      "\r\n"
     ]
    }
   ],
   "source": [
    "!head gt.txt"
   ]
  },
  {
   "cell_type": "markdown",
   "id": "b71f3a46",
   "metadata": {},
   "source": [
    "I'll use the sequence alignment functions of dinglehopper to match the sequence of lines in the OCR text to match the sequence of lines in the GT text. For this to work properly, I need a class that treats similiar strings as equal - based on some kind of distance. Here I use a kind of normalized Levensthein distance:"
   ]
  },
  {
   "cell_type": "code",
   "execution_count": 3,
   "id": "0302d030",
   "metadata": {},
   "outputs": [],
   "source": [
    "from qurator.dinglehopper import distance\n",
    "\n",
    "class SimilarString:\n",
    "    def __init__(self, string):\n",
    "        self._string = string\n",
    "\n",
    "    def __eq__(self, other):\n",
    "        # Just an example!\n",
    "        min_len = min(len(self._string), len(other._string))\n",
    "        if min_len > 0:\n",
    "            normalized_distance = distance(self._string, other._string) / min_len\n",
    "            similar = normalized_distance < 0.1\n",
    "        else:\n",
    "            similar = False\n",
    "        return similar\n",
    "\n",
    "    def __ne__(self, other):\n",
    "        return not self.__eq__(other)\n",
    "\n",
    "    def __repr__(self):\n",
    "        return \"SimilarString('%s')\" % self._string\n",
    "\n",
    "    def __hash__(self):\n",
    "        return hash(self._string)"
   ]
  },
  {
   "cell_type": "markdown",
   "id": "f0f59673",
   "metadata": {},
   "source": [
    "A few tests:"
   ]
  },
  {
   "cell_type": "code",
   "execution_count": 4,
   "id": "3f12fa24",
   "metadata": {},
   "outputs": [],
   "source": [
    "assert(SimilarString(\"the same\") == SimilarString(\"the same\"))"
   ]
  },
  {
   "cell_type": "code",
   "execution_count": 5,
   "id": "2d223857",
   "metadata": {},
   "outputs": [],
   "source": [
    "assert(SimilarString(\"not at all\") != SimilarString(\"the same\"))"
   ]
  },
  {
   "cell_type": "code",
   "execution_count": 6,
   "id": "40295072",
   "metadata": {},
   "outputs": [],
   "source": [
    "assert(SimilarString(\"abcdefghijk\") == SimilarString(\"abcdefghjjk\"))  # Note the double jj"
   ]
  },
  {
   "cell_type": "markdown",
   "id": "64b50082",
   "metadata": {},
   "source": [
    "I read the texts as sequences of this class:"
   ]
  },
  {
   "cell_type": "code",
   "execution_count": 7,
   "id": "522dd90f",
   "metadata": {},
   "outputs": [],
   "source": [
    "ocr = [SimilarString(line.rstrip()) for line in open(\"ocr.txt\", \"r\")]\n",
    "gt = [SimilarString(line.rstrip()) for line in open(\"gt.txt\", \"r\")]"
   ]
  },
  {
   "cell_type": "markdown",
   "id": "dcd16e27",
   "metadata": {},
   "source": [
    "And align (match) these sequences:"
   ]
  },
  {
   "cell_type": "code",
   "execution_count": 8,
   "id": "60e4209a",
   "metadata": {},
   "outputs": [],
   "source": [
    "from qurator.dinglehopper import seq_align\n",
    "result = list(seq_align(ocr, gt))"
   ]
  },
  {
   "cell_type": "markdown",
   "id": "3da7e210",
   "metadata": {},
   "source": [
    "### Matched lines\n",
    "\n",
    "\n",
    "The way this sequence alignment works, I just need to check where the elements of this alignment match to find matching lines:"
   ]
  },
  {
   "cell_type": "code",
   "execution_count": 9,
   "id": "ee6838b4",
   "metadata": {},
   "outputs": [
    {
     "name": "stdout",
     "output_type": "stream",
     "text": [
      "SimilarString('Achtung! Telefonische Bestellungen werden angenommen, jedoch')\n",
      "SimilarString('Achtung! Telefonische Bestellungen werden angenommen, jedoch')\n",
      "\n",
      "SimilarString('nur nech schriftlicher Bestätigung ausgeführt.')\n",
      "SimilarString('nur nach schriftlicher Bestätigung ausgeführt.')\n",
      "\n",
      "SimilarString('Bestellungen erbeten en')\n",
      "SimilarString('Bestellungen erbeten an')\n",
      "\n",
      "SimilarString('DDR –-_701_Leipzig, Talstr. 29, Postfach _1080')\n",
      "SimilarString('DDR - 701 Leipzig, Talstr. 29, Postfach 1080')\n",
      "\n",
      "SimilarString('oder an folgende Vertragapartner:')\n",
      "SimilarString('oder an folgende Vertragspartner:')\n",
      "\n",
      "SimilarString('Helios-Buchhandlung u. Antiausriat GmbH')\n",
      "SimilarString('Helios-Buchhandlung u. Antiquariat GmbH')\n",
      "\n",
      "SimilarString('1 Berlin 52, Eichborndamm 141-167')\n",
      "SimilarString('1 Berlin 52, Eichborndamm 141-167')\n",
      "\n",
      "SimilarString('Heidelberger Humani tas')\n",
      "SimilarString('Heidelberger Humanitas')\n",
      "\n",
      "SimilarString('Literetur-Vertriebs-GmbH')\n",
      "SimilarString('Literatur-Vertriebs-GmbH')\n",
      "\n",
      "SimilarString('69 Heidelberg 1, Wilckensatr. 3/5')\n",
      "SimilarString('69 Heidelberg 1, Wilckensstr. 3/5')\n",
      "\n",
      "SimilarString('Foetellungen aus dem Ausland bitte nur en das')\n",
      "SimilarString('Bestellungen aus dem Ausland bitte nur an das')\n",
      "\n",
      "SimilarString('Zentralentiqgueriat der Deutschen Demokratischen Republik,')\n",
      "SimilarString('Zentralantiquariat der Deutschen Demokratischen Republik,')\n",
      "\n",
      "SimilarString('Demokratischen Republik')\n",
      "SimilarString('Demokratischen Republik')\n",
      "\n",
      "SimilarString('Lieferbedingungen')\n",
      "SimilarString('Lieferbedingungen')\n",
      "\n",
      "SimilarString('Alle in diesem Angebot angezeigten Werke sind, soweit nicht')\n",
      "SimilarString('Alle in diesem Angebot angezeigten Werke sind, soweit nicht')\n",
      "\n",
      "SimilarString('andera vermerkt, vollständig und gut erhalten, Die Ausliefe-')\n",
      "SimilarString('anders vermerkt, vollständig und gut erhalten. Die Ausliefe-')\n",
      "\n",
      "SimilarString('Feng beginnt in der Regel frühestens 10 Tege nach dem allge.')\n",
      "SimilarString('rung beginnt in der Regel frühestens 10 Tage nach dem allge-')\n",
      "\n",
      "SimilarString('meinen Versand unserer Kataloge und Angebotslisten. a')\n",
      "SimilarString('meinen Versand unserer Kataloge und Angebotslisten.')\n",
      "\n",
      "SimilarString('Dieses Angebot ist freibleibend und ohne Lieferzwang. in')\n",
      "SimilarString('Dieses Angebot ist freibleibend und ohne Lieferzwang. Ein')\n",
      "\n",
      "SimilarString('Teil der Titel kann nur an wissenscheftliche Institute und')\n",
      "SimilarString('Teil der Titel kann nur an wissenschaftliche Institute und')\n",
      "\n",
      "SimilarString('Bibliotheken abgegeben werden.')\n",
      "SimilarString('Bibliotheken abgegeben werden.')\n",
      "\n",
      "SimilarString('Rücksendungen werden b« begründeter Beanstandung und erfole-')\n",
      "SimilarString('Rücksendungen werden bei begründeter Beanstandung und erfolg-')\n",
      "\n",
      "SimilarString('ter Zustimmung nur innerhalb von 8 Tagen nach Empfang der Ware')\n",
      "SimilarString('ter Zustimmung nur innerhalb von 8 Tagen nach Empfang der Ware')\n",
      "\n",
      "SimilarString('angenommen. Varsand erfolgt auf Kosten und Gefehr des Empfän-')\n",
      "SimilarString('angenommen. Versand erfolgt auf Kosten und Gefahr des Empfän-')\n",
      "\n",
      "SimilarString('gers. Eigentumsvorbehalt bis zur völligen Bezahlung.')\n",
      "SimilarString('gers. Eigentumsvorbehalt bis zur völligen Bezahlung.')\n",
      "\n",
      "SimilarString('AÄnaichtssendungen können lediglich in Augnahmefällen nach')\n",
      "SimilarString('Ansichtssendungen können lediglich in Ausnahmefällen nach')\n",
      "\n",
      "SimilarString('Srledigung der Festbestellungen erfolgen.')\n",
      "SimilarString('Erledigung der Festbestellungen erfolgen.')\n",
      "\n",
      "SimilarString('Erfüllungsort und Gerichtsstand Leipzig-')\n",
      "SimilarString('Erfüllungsort und Gerichtsstand Leipzig-')\n",
      "\n",
      "SimilarString('Lieferurg wach Österreich erfolgen direkt unter Verrecknun,')\n",
      "SimilarString('Lieferung nach Österreich erfolgen direkt unter Verrechnung')\n",
      "\n",
      "SimilarString('nit unse‘ © Vertragspartner Globus-Buchvertrieb, wien I,')\n",
      "SimilarString('mit unserem Vertragspartner Globus-Buchvertrieb, Wien I,')\n",
      "\n",
      "SimilarString('Salzgries 16, an den alle für uns bestimmten Zehlungen zu')\n",
      "SimilarString('Salzgries 16, an den alle für uns bestimmten Zahlungen zu')\n",
      "\n",
      "SimilarString('Leieten sind. Bestellungen jedoch direkt an uns erbeten,')\n",
      "SimilarString('leisten sind. Bestellungen jedoch direkt an uns erbeten')\n",
      "\n"
     ]
    }
   ],
   "source": [
    "for o, g in result:\n",
    "    if o and g and o == g:\n",
    "        print(o)\n",
    "        print(g)\n",
    "        print()"
   ]
  },
  {
   "cell_type": "markdown",
   "id": "951b8067",
   "metadata": {},
   "source": [
    "### Unmatched lines\n",
    "\n",
    "Similary, I can find unmatched lines from the GT page text:"
   ]
  },
  {
   "cell_type": "code",
   "execution_count": 10,
   "id": "e95d8cf8",
   "metadata": {},
   "outputs": [
    {
     "name": "stdout",
     "output_type": "stream",
     "text": [
      "SimilarString('Zentralantiquariat der Deutschen Demokratischen Republik,')\n",
      "\n",
      "SimilarString('----------------------------------------')\n",
      "\n",
      "SimilarString('Preise in Mark der Deutschen')\n",
      "\n"
     ]
    }
   ],
   "source": [
    "for o, g in result:\n",
    "    if not g or g._string == '':\n",
    "        continue\n",
    "    if (not o) or (o != g):\n",
    "        print(g)\n",
    "        print()"
   ]
  },
  {
   "cell_type": "markdown",
   "id": "3f6947db",
   "metadata": {},
   "source": [
    "## Discussion\n",
    "\n",
    "This approach has some obvious flaws: It will only work if segmentation (including reading order) and OCR yields good enough results to produce useful line images and corresponding matches in the GT text. I also see unmatched lines above, so there may even some \"wasted\" lines.\n",
    "\n",
    "However, if I have a large corpus of transscriptions (like the Deutsches Textarchiv) this can yield a large amount of line GT without a huge investent in manual labeling."
   ]
  }
 ],
 "metadata": {
  "hide_input": false,
  "kernelspec": {
   "display_name": "tmp.350678",
   "language": "python",
   "name": "tmp.350678"
  },
  "language_info": {
   "codemirror_mode": {
    "name": "ipython",
    "version": 3
   },
   "file_extension": ".py",
   "mimetype": "text/x-python",
   "name": "python",
   "nbconvert_exporter": "python",
   "pygments_lexer": "ipython3",
   "version": "3.9.6"
  },
  "toc": {
   "base_numbering": 1,
   "nav_menu": {},
   "number_sections": true,
   "sideBar": true,
   "skip_h1_title": false,
   "title_cell": "Table of Contents",
   "title_sidebar": "Contents",
   "toc_cell": false,
   "toc_position": {},
   "toc_section_display": true,
   "toc_window_display": true
  }
 },
 "nbformat": 4,
 "nbformat_minor": 5
}
